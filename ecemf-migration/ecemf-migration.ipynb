{
 "cells": [
  {
   "cell_type": "code",
   "execution_count": null,
   "id": "c3ec7e94",
   "metadata": {},
   "outputs": [],
   "source": [
    "import ixmp\n",
    "import pyam\n",
    "import nomenclature"
   ]
  },
  {
   "cell_type": "code",
   "execution_count": null,
   "id": "8cd4dc5d",
   "metadata": {},
   "outputs": [],
   "source": [
    "ecemf_public = ixmp.Platform(\"ecemf\")"
   ]
  },
  {
   "cell_type": "code",
   "execution_count": null,
   "id": "e9e9a5cf",
   "metadata": {},
   "outputs": [],
   "source": [
    "source_db = ixmp.Platform(\"ecemf-internal\")"
   ]
  },
  {
   "cell_type": "code",
   "execution_count": null,
   "id": "1e5cea9c",
   "metadata": {},
   "outputs": [],
   "source": [
    "scenarios = source_db.scenario_list()"
   ]
  },
  {
   "cell_type": "code",
   "execution_count": null,
   "id": "d3bd478a",
   "metadata": {},
   "outputs": [],
   "source": [
    "scenarios.model.unique()"
   ]
  },
  {
   "cell_type": "code",
   "execution_count": null,
   "id": "60acffb7",
   "metadata": {},
   "outputs": [],
   "source": [
    "scenario_mapping = {\n",
    "    \"Euro-Calliope 2.0\": [\n",
    "        \"DIAG-C400-lin\",\n",
    "    ],\n",
    "    \"LIMES 2.38\": [\n",
    "        \"DIAG-C400-lin\",\n",
    "    ],\n",
    "    \"OSeMBE v1.0.0\": [\n",
    "        \"DIAG-C400-lin\",\n",
    "    ],\n",
    "    \"MEESA v1.2\": [\n",
    "        \"DIAG-C400-lin\",\n",
    "    ],\n",
    "    \"PRIMES 2022\": [\n",
    "        \"DIAG-C400-lin\",\n",
    "    ],\n",
    "    \"REMIND 2.1\": [\n",
    "        \"DIAG-C400-lin\",\n",
    "    ],\n",
    "    \"WITCH 5.1\": [\n",
    "        \"DIAG-C400-lin\",\n",
    "    ],\n",
    "    \"IMAGE 3.2\": [\n",
    "        \"DIAG-C400-lin\",\n",
    "    ],\n",
    "    \"MESSAGEix-GLOBIOM 1.2\": [\n",
    "        \"DIAG-C400-lin\",\n",
    "    ],\n",
    "    \"TIAM-ECN 1.2\": [\n",
    "        \"DIAG-C400-lin\",\n",
    "    ],\n",
    "    \"PROMETHEUS 1.2\": [\n",
    "        \"DIAG-C400-lin\",\n",
    "    ],\n",
    "}"
   ]
  },
  {
   "cell_type": "code",
   "execution_count": null,
   "id": "f2f89c86",
   "metadata": {},
   "outputs": [],
   "source": [
    "scenario_selection = list()\n",
    "for model, scenarios in scenario_mapping.items():\n",
    "    for s in scenarios:\n",
    "        scenario_selection.append((model, s))"
   ]
  },
  {
   "cell_type": "code",
   "execution_count": null,
   "id": "4a2bc79a",
   "metadata": {},
   "outputs": [],
   "source": [
    "scenario_selection"
   ]
  },
  {
   "cell_type": "code",
   "execution_count": null,
   "id": "260b607d",
   "metadata": {},
   "outputs": [],
   "source": [
    "scenario_list = [\n",
    "    pyam.IamDataFrame(\n",
    "        ixmp.Scenario(mp=source_db, model=m, scenario=s).timeseries()\n",
    "    )\n",
    "    for (m, s) in scenario_selection\n",
    "]\n",
    "df = pyam.concat(scenario_list)"
   ]
  },
  {
   "cell_type": "code",
   "execution_count": null,
   "id": "095f306a",
   "metadata": {},
   "outputs": [],
   "source": [
    "df.filter(year=range(1990, 2101, 1), inplace=True)"
   ]
  },
  {
   "cell_type": "code",
   "execution_count": null,
   "id": "b8d2f0c1",
   "metadata": {},
   "outputs": [],
   "source": [
    "for (_model, _scenario) in df.index:\n",
    "    _df = df.filter(model=_model, scenario=_scenario)\n",
    "\n",
    "    # initialize scenario and add timeseries data\n",
    "    scen = ixmp.Scenario(ecemf_public, _model, _scenario, version=\"new\")\n",
    "    scen.add_timeseries(_df.data)\n",
    "    scen.commit(f\"Migrated from H2020 ECEMF project-internal database\")\n",
    "    scen.set_as_default()"
   ]
  },
  {
   "cell_type": "code",
   "execution_count": null,
   "id": "676f0067",
   "metadata": {},
   "outputs": [],
   "source": [
    "df.to_excel(\"ECEMF-Diagnostic-scenarios-v1.xlsx\")"
   ]
  },
  {
   "cell_type": "code",
   "execution_count": null,
   "id": "811679f2",
   "metadata": {},
   "outputs": [],
   "source": []
  },
  {
   "cell_type": "code",
   "execution_count": null,
   "id": "9befac32",
   "metadata": {},
   "outputs": [],
   "source": []
  },
  {
   "cell_type": "code",
   "execution_count": null,
   "id": "76534f53",
   "metadata": {},
   "outputs": [],
   "source": []
  },
  {
   "cell_type": "markdown",
   "id": "1b142184",
   "metadata": {},
   "source": [
    "# Add diagnostic indicators"
   ]
  },
  {
   "cell_type": "code",
   "execution_count": null,
   "id": "4be3013e",
   "metadata": {},
   "outputs": [],
   "source": [
    "dsd = nomenclature.DataStructureDefinition(\"../definitions/\")"
   ]
  },
  {
   "cell_type": "code",
   "execution_count": null,
   "id": "cd1adb06",
   "metadata": {},
   "outputs": [],
   "source": [
    "countries = []\n",
    "\n",
    "for country in dsd.region:\n",
    "    if dsd.region[country].hierarchy == \"country\":\n",
    "        if dsd.region[country].eu_member:\n",
    "            countries.append(country)"
   ]
  },
  {
   "cell_type": "code",
   "execution_count": null,
   "id": "360718f6",
   "metadata": {},
   "outputs": [],
   "source": [
    "countries"
   ]
  },
  {
   "cell_type": "code",
   "execution_count": null,
   "id": "e7db4e69",
   "metadata": {},
   "outputs": [],
   "source": [
    "scenarios = ecemf_public.scenario_list()"
   ]
  },
  {
   "cell_type": "code",
   "execution_count": null,
   "id": "c7f15937",
   "metadata": {},
   "outputs": [],
   "source": [
    "for i, row in scenarios.iterrows():\n",
    "    run = ixmp.Scenario(ecemf_public, model=row[\"model\"], scenario=row[\"scenario\"])\n",
    "    run.set_meta(\"doi\", \"https://doi.org/10.5281/zenodo.7634845\")\n",
    "    run.set_meta(\"citation\", \"Pietzcker et al., 2023, ZENODO\")\n",
    "    run.set_meta(\"Work package\", \"WP1\")\n",
    "    run.set_meta(\"Scenario type\", \"Diagnostic\")\n",
    "    \n",
    "    df = run.timeseries()\n",
    "    regions = list(df.region.unique())\n",
    "    if \"World\" in regions:\n",
    "        run.set_meta(\"coverage: global\", \"yes\")\n",
    "    if \"OECD & EU (R5)\" in regions:\n",
    "        run.set_meta(\"coverage: R5\", \"yes\")\n",
    "    if \"Europe (R10)\" in regions:\n",
    "        run.set_meta(\"coverage: R10\", \"yes\")\n",
    "    if \"EU27 & UK\" in regions:\n",
    "        run.set_meta(\"coverage: EU27 & UK\", \"yes\")\n",
    "    if \"EU27\" in regions:\n",
    "        run.set_meta(\"coverage: EU27\", \"yes\")\n",
    "    if set(regions).issubset(countries):\n",
    "        run.set_meta(\"coverage: country\", \"yes\")\n"
   ]
  },
  {
   "cell_type": "code",
   "execution_count": null,
   "id": "b0a880db",
   "metadata": {},
   "outputs": [],
   "source": []
  }
 ],
 "metadata": {
  "kernelspec": {
   "display_name": "Python 3 (ipykernel)",
   "language": "python",
   "name": "python3"
  },
  "language_info": {
   "codemirror_mode": {
    "name": "ipython",
    "version": 3
   },
   "file_extension": ".py",
   "mimetype": "text/x-python",
   "name": "python",
   "nbconvert_exporter": "python",
   "pygments_lexer": "ipython3",
   "version": "3.8.12"
  },
  "latex_envs": {
   "LaTeX_envs_menu_present": true,
   "autoclose": false,
   "autocomplete": true,
   "bibliofile": "biblio.bib",
   "cite_by": "apalike",
   "current_citInitial": 1,
   "eqLabelWithNumbers": true,
   "eqNumInitial": 1,
   "hotkeys": {
    "equation": "Ctrl-E",
    "itemize": "Ctrl-I"
   },
   "labels_anchors": false,
   "latex_user_defs": false,
   "report_style_numbering": false,
   "user_envs_cfg": false
  }
 },
 "nbformat": 4,
 "nbformat_minor": 5
}
